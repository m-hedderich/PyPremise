{
 "cells": [
  {
   "cell_type": "markdown",
   "metadata": {},
   "source": [
    "# PyPremise Example: General Usage"
   ]
  },
  {
   "cell_type": "markdown",
   "metadata": {},
   "source": [
    "PyPremise identifies the systematic differences between two groups of text. So let's start with two lists of texts, one about cats and one about dogs. In PyPremise, we call each text an instance."
   ]
  },
  {
   "cell_type": "code",
   "execution_count": 1,
   "metadata": {},
   "outputs": [],
   "source": [
    "group_0_texts = [\"I like an independant cat .\", \n",
    "                 \"The cat I have is independant .\", \n",
    "                \"That's a cute cat .\",\n",
    "                \"Wow, your cat is really independant .\",\n",
    "                \"All voted for the independant cat .\",\n",
    "                \"I have a very independant cat .\",  \n",
    "                \"Who knew that a cat would be so independant .\",\n",
    "                \"I like that animal that catches mice .\",\n",
    "                \"I like the cat because it is independant .\",\n",
    "                \"Your cat is so independant and so cute .\",\n",
    "                \"I have a very independant cat .\",\n",
    "                \"Well, independant is probably the right adjective to describe this cat .\"]\n",
    "\n",
    "group_1_texts = [\"My dog is incredibly loyal .\",\n",
    "                \"A dog is famously a man's best friend .\",\n",
    "                \"The dog ate my homework .\",\n",
    "                \"The dog likes to chase the rabbit .\",\n",
    "                \"Wow, your dog is really loyal and cute .\",\n",
    "                \"The dog had a beautiful color .\",\n",
    "                \"Being very loyal, the dog helped her owner all the time .\",\n",
    "                \"I'm a big fan of this dog .\"]"
   ]
  },
  {
   "cell_type": "markdown",
   "metadata": {},
   "source": [
    "You might have spotted that the \".\" is always separated at the end. PyPremise assumes that your data is already tokenized, i.e. separated into individual words or tokens. In this tutorial, we make our life easy and just split at every whitespace.\n",
    "\n",
    "For more advanced tokenization, you can use a library like [spaCy](https://spacy.io/api/tokenizer) to perform the tokenization. Usually, you should tokenize your texts before giving them to PyPremise as this reduces the vocabulary and makes it more likely to find patterns."
   ]
  },
  {
   "cell_type": "code",
   "execution_count": 2,
   "metadata": {},
   "outputs": [
    {
     "name": "stdout",
     "output_type": "stream",
     "text": [
      "[['I', 'like', 'an', 'independant', 'cat', '.'], ['The', 'cat', 'I', 'have', 'is', 'independant', '.'], [\"That's\", 'a', 'cute', 'cat', '.'], ['Wow,', 'your', 'cat', 'is', 'really', 'independant', '.'], ['All', 'voted', 'for', 'the', 'independant', 'cat', '.'], ['I', 'have', 'a', 'very', 'independant', 'cat', '.'], ['Who', 'knew', 'that', 'a', 'cat', 'would', 'be', 'so', 'independant', '.'], ['I', 'like', 'that', 'animal', 'that', 'catches', 'mice', '.'], ['I', 'like', 'the', 'cat', 'because', 'it', 'is', 'independant', '.'], ['Your', 'cat', 'is', 'so', 'independant', 'and', 'so', 'cute', '.'], ['I', 'have', 'a', 'very', 'independant', 'cat', '.'], ['Well,', 'independant', 'is', 'probably', 'the', 'right', 'adjective', 'to', 'describe', 'this', 'cat', '.']]\n"
     ]
    }
   ],
   "source": [
    "# simple whitespace tokenizer\n",
    "def tokenizer(texts):\n",
    "    return [text.split() for text in texts]\n",
    "\n",
    "tok_group_0_texts = tokenizer(group_0_texts)\n",
    "tok_group_1_texts = tokenizer(group_1_texts)\n",
    "print(tok_group_0_texts)"
   ]
  },
  {
   "cell_type": "markdown",
   "metadata": {},
   "source": [
    "Now we convert our lists of tokenized texts into the format that PyPremise internally works with. \n",
    "\n",
    "If you are interested in the details: PyPremise uses a bag-of-word assumptions and a numeric representation where each token is represented by its vocabulary index. If that sounds confusing to you, don't worry, we have a data_loaders helper function that takes care of that:"
   ]
  },
  {
   "cell_type": "code",
   "execution_count": 3,
   "metadata": {},
   "outputs": [],
   "source": [
    "from pypremise import data_loaders\n",
    "premise_instances, voc_token_to_index, voc_index_to_token = data_loaders.from_token_lists(tok_group_0_texts, tok_group_1_texts)"
   ]
  },
  {
   "cell_type": "markdown",
   "metadata": {},
   "source": [
    "Now let's run the Premise algorithm and let's identify what the differences between the two groups of texts are!"
   ]
  },
  {
   "cell_type": "code",
   "execution_count": 4,
   "metadata": {},
   "outputs": [
    {
     "name": "stdout",
     "output_type": "stream",
     "text": [
      "(dog) towards group 1 (Instances: 0 in group 0, 8 in group 1)\n",
      "(independant) and (cat) towards group 0 (Instances: 10 in group 0, 0 in group 1)\n"
     ]
    }
   ],
   "source": [
    "from pypremise import Premise\n",
    "premise = Premise(voc_index_to_token=voc_index_to_token)\n",
    "\n",
    "patterns = premise.find_patterns(premise_instances)\n",
    "for p in patterns:\n",
    "    print(p)"
   ]
  },
  {
   "cell_type": "markdown",
   "metadata": {},
   "source": [
    "PyPremise uses a data mining approach and requires a certain amount of data to find statistically significant results. That's why we have so many individual sentences about cats and dogs. You can play around with the number of sentences, add some or remove some. How many examples PyPremise needs to identify a pattern depends on a lot of factors, including noise (e.g. a \"cat\" also appearing in the dog group 1 like in the example). If you do not get any outputs from PyPremise, try increasing the number of instances. Usually, 10 or 20 instances per group is the bare minimum and it starts getting interesting with 100 or more instances."
   ]
  }
 ],
 "metadata": {
  "kernelspec": {
   "display_name": "pypremise",
   "language": "python",
   "name": "myenv"
  },
  "language_info": {
   "codemirror_mode": {
    "name": "ipython",
    "version": 3
   },
   "file_extension": ".py",
   "mimetype": "text/x-python",
   "name": "python",
   "nbconvert_exporter": "python",
   "pygments_lexer": "ipython3",
   "version": "3.12.3"
  }
 },
 "nbformat": 4,
 "nbformat_minor": 4
}
