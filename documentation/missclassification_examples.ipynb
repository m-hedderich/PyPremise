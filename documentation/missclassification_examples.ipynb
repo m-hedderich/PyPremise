{
 "cells": [
  {
   "cell_type": "markdown",
   "id": "6f3274e0-c1b5-441e-a38a-d89733c5dbdb",
   "metadata": {},
   "source": [
    "# PyPremise Example:  Misclassifications"
   ]
  },
  {
   "cell_type": "markdown",
   "id": "63c8cd05-fe63-43fb-9c2b-c14c63a1775f",
   "metadata": {},
   "source": [
    "PyPremise enables easy identification of patterns or explanations for where a machine learning classifier performs well and where it fails. To use it, we need a list of texts along with their corresponding labels.\n",
    "\n",
    "In this example, we analyze the performance of a Visual Question Answering (VQA) model. The model is given an image and a question and tries to answer the question based on the image. We simulate a few questions where the model succeeded and others where it failed. The goal is to identify patterns that help explain when the model tends to make mistakes. \n",
    "\n",
    "We have a small dataset of questions about images (e.g., from a VQA task).We assume that questions in `question_group_1` were classified **correctly**, and questions in `question_group_0` were **misclassified**."
   ]
  },
  {
   "cell_type": "code",
   "execution_count": 2,
   "id": "e88fc2bd-0e68-4c12-90e4-932e2e550c4c",
   "metadata": {},
   "outputs": [],
   "source": [
    "questions_group_0 = [\"How many ducks are there\",\n",
    "                 \"How many roosters are in the puddle\",\n",
    "                 \"How many ducks do you see\",\n",
    "                 \"How many ducks are there\",\n",
    "                 \"How many chickens are crossing the road\",\n",
    "                 \"What are the ducks eating\",\n",
    "                 \"How many ducks does one need\",\n",
    "                 \"How many ducks and chickens are there\",\n",
    "                 \"Are there any ducks\",\n",
    "                 \"Where is the rooster looking at\",\n",
    "                 \"How many chickens are there\",\n",
    "                 \"How many roosters can you see\"\n",
    "                ]\n",
    "\n",
    "questions_group_1 = [\"When was the photo taken\",\n",
    "                 \"Are there many ducks playing\",\n",
    "                 \"When was the photograph taken\",\n",
    "                 \"When was this photo taken\",\n",
    "                 \"When did the photographer take this photograph\",\n",
    "                 \"Do you see any ducks\",\n",
    "                 \"Can you see a rooster in the picture\",\n",
    "                 \"Can you see ducks in the photograph\",\n",
    "                 \"When do you think was the photo taken\",\n",
    "                 \"When was the photo with the ducks taken\",\n",
    "                 \"When was the photograph taken\",\n",
    "                 \"When was the photograph taken where one can see the rooster\"\n",
    "                ]\n"
   ]
  },
  {
   "cell_type": "markdown",
   "id": "5924d756",
   "metadata": {},
   "source": [
    "We first tokenize the texts into lists of words. This gives us the following:"
   ]
  },
  {
   "cell_type": "code",
   "execution_count": 3,
   "id": "020b3ae0",
   "metadata": {},
   "outputs": [
    {
     "name": "stdout",
     "output_type": "stream",
     "text": [
      "[['How', 'many', 'ducks', 'are', 'there'], ['How', 'many', 'roosters', 'are', 'in', 'the', 'puddle'], ['How', 'many', 'ducks', 'do', 'you', 'see'], ['How', 'many', 'ducks', 'are', 'there'], ['How', 'many', 'chickens', 'are', 'crossing', 'the', 'road'], ['What', 'are', 'the', 'ducks', 'eating'], ['How', 'many', 'ducks', 'does', 'one', 'need'], ['How', 'many', 'ducks', 'and', 'chickens', 'are', 'there'], ['Are', 'there', 'any', 'ducks'], ['Where', 'is', 'the', 'rooster', 'looking', 'at'], ['How', 'many', 'chickens', 'are', 'there'], ['How', 'many', 'roosters', 'can', 'you', 'see']]\n"
     ]
    }
   ],
   "source": [
    "# simple whitespace tokenizer\n",
    "def tokenizer(texts):\n",
    "    return [text.split() for text in texts]\n",
    "\n",
    "tok_group_0_questions = tokenizer(questions_group_0)\n",
    "tok_group_1_questions = tokenizer(questions_group_1)\n",
    "print(tok_group_0_questions)"
   ]
  },
  {
   "cell_type": "markdown",
   "id": "2ec580d4-9f58-4560-aeb0-2ba865247265",
   "metadata": {},
   "source": [
    "We then use the function `from_token_lists` to convert these into `PremiseInstance` objects, which PyPremise can work with:"
   ]
  },
  {
   "cell_type": "code",
   "execution_count": 4,
   "id": "1de56eba-f4d8-4350-83ff-9b6d09a001d9",
   "metadata": {},
   "outputs": [],
   "source": [
    "from pypremise.data_loaders import from_token_lists\n",
    "\n",
    "premise_instances, voc_token_to_index, voc_index_to_token = from_token_lists(\n",
    "    token_lists_group_0=tok_group_0_questions,\n",
    "    token_lists_group_1=tok_group_1_questions\n",
    ")\n"
   ]
  },
  {
   "cell_type": "markdown",
   "id": "8cb0e92d-a7a8-48be-8722-f8db8c6037a8",
   "metadata": {},
   "source": [
    "This function takes two separate lists of tokenized texts: one for the misclassified examples (label 0) and one for the correctly classified ones (label 1). It merges them internally and creates the necessary data structures for PyPremise.\n",
    "\n",
    "We can now run PyPremise on the instances to find patterns that differentiate between successful and unsuccessful classifications:"
   ]
  },
  {
   "cell_type": "code",
   "execution_count": 5,
   "id": "4a63c48e-db46-4247-9044-93aed2302324",
   "metadata": {},
   "outputs": [
    {
     "name": "stdout",
     "output_type": "stream",
     "text": [
      "(How) and (many) towards group 0 (Instances: 9 in group 0, 0 in group 1)\n",
      "(was) and (taken) and (When) towards group 1 (Instances: 0 in group 0, 7 in group 1)\n"
     ]
    }
   ],
   "source": [
    "from pypremise import Premise\n",
    "\n",
    "premise = Premise(voc_index_to_token=voc_index_to_token)\n",
    "patterns = premise.find_patterns(premise_instances)\n",
    "\n",
    "for p in patterns:\n",
    "    print(p)\n"
   ]
  },
  {
   "cell_type": "markdown",
   "id": "728a8844-cecc-4a42-973a-03aa7ef43408",
   "metadata": {},
   "source": [
    "Alternatively, you can use `from_token_lists_and_labels` if your data is not grouped, but instead already annotated with success/failure labels.\n",
    "\n",
    "For example:"
   ]
  },
  {
   "cell_type": "code",
   "execution_count": 6,
   "id": "5e4d532d-d70c-48e9-bdbb-70cadf7ddf1a",
   "metadata": {},
   "outputs": [],
   "source": [
    "question_lists = [\"When was the photograph taken\",\n",
    "              \"Where is the rooster looking at\",\n",
    "              \"Are there many ducks playing\",\n",
    "              \"When was the photo taken\",\n",
    "              \"When was this photo taken\",\n",
    "              \"How many ducks are there\",\n",
    "              \"How many chickens are there\",\n",
    "              \"When was the photograph taken where one can see the rooster\",\n",
    "              \"Can you see ducks in the photograph\",\n",
    "              \"When was the photograph taken\",\n",
    "              \"What are the ducks eating\",\n",
    "              \"How many ducks and chickens are there\",\n",
    "              \"Are there any ducks\",\n",
    "              \"How many ducks does one need\",\n",
    "              \"How many chickens are crossing the road\",\n",
    "              \"Do you see any ducks\",\n",
    "              \"How many ducks do you see\",\n",
    "              \"When did the photographer take this photograph\",\n",
    "              \"How many ducks are there\",\n",
    "              \"When do you think was the photo taken\",\n",
    "              \"Can you see a rooster in the picture\",\n",
    "              \"When was the photo with the ducks taken\",\n",
    "              \"How many roosters are in the puddle\",\n",
    "              \"How many roosters can you see\"]\n",
    "\n",
    "labels = [1, 0, 1, 1, 1, 0, 0, 1, 1, 1, 0, 0, 0, 0, 0, 1, 0, 1, 0, 1, 1, 1, 0, 0] # 0 = failure, 1 = success\n",
    "\n",
    "token_lists =  tokenizer(question_lists)"
   ]
  },
  {
   "cell_type": "markdown",
   "id": "65b59e05-0a10-4289-9934-941135001399",
   "metadata": {},
   "source": [
    "We then create the instances using the function as follows:"
   ]
  },
  {
   "cell_type": "code",
   "execution_count": 7,
   "id": "6c73c738-3ffc-4b01-b5b7-022a1ff7c652",
   "metadata": {},
   "outputs": [],
   "source": [
    "from pypremise.data_loaders import from_token_lists_and_labels\n",
    "\n",
    "instances_alt, voc_token_to_index_alt, voc_index_to_token_alt = from_token_lists_and_labels(token_lists, labels)"
   ]
  }
 ],
 "metadata": {
  "kernelspec": {
   "display_name": "pypremise (3.12.3)",
   "language": "python",
   "name": "python3"
  },
  "language_info": {
   "codemirror_mode": {
    "name": "ipython",
    "version": 3
   },
   "file_extension": ".py",
   "mimetype": "text/x-python",
   "name": "python",
   "nbconvert_exporter": "python",
   "pygments_lexer": "ipython3",
   "version": "3.12.3"
  }
 },
 "nbformat": 4,
 "nbformat_minor": 5
}
